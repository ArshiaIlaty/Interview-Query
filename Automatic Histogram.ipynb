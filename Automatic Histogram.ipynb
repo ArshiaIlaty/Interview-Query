{
 "cells": [
  {
   "cell_type": "markdown",
   "metadata": {},
   "source": [
    "## Automatic Histogram\n",
    "Given a list of integers called dataset, write a function called automatic_histogram to automatically generate a dictionary representing a histogram of the data set with x bins uniformly distributed over the values.\n",
    "\n",
    "Note: You should not include any bins that have zero values in them in your dictionary.\n",
    "\n",
    "Note: Do NOT use numpy or pandas.\n",
    "\n",
    "Example:\n",
    "\n",
    "    Input:\n",
    "    x = 3\n",
    "    dataset = [1,2,2,3,4,5]\n",
    "\n",
    "    Output:\n",
    "    automatic_histogram(dataset, x) -> {'1-2': 3, '3-4': 2, '5': 1}"
   ]
  },
  {
   "cell_type": "markdown",
   "metadata": {},
   "source": [
    "### Explanation:\n",
    "\n",
    "x = 3 so our dictionary should have three entries\n",
    "\n",
    "The values 1 and 2 are mapped to the first index of the histogram, so we count the values [1,2,2] of dataset as {'1-2': 3}\n",
    "\n",
    "The values 3 and 4 are mapped to the second index of the histogram, so we count [3,4] as {'3-4': 2}\n",
    "\n",
    "The value 5 is mapped to the third and final index of the histogram, so we count the single value of [5] in the dataset as {'5': 1}"
   ]
  },
  {
   "cell_type": "markdown",
   "metadata": {},
   "source": [
    "# Clarification Questions\n",
    "\n",
    "1. Can we have an empty list?\n",
    "2. Is this list sorted?"
   ]
  },
  {
   "cell_type": "markdown",
   "metadata": {},
   "source": [
    "#### My first version of code which is incorrect and I also realized I should not use numpy after a while!"
   ]
  },
  {
   "cell_type": "code",
   "execution_count": null,
   "metadata": {},
   "outputs": [],
   "source": [
    "import numpy as np\n",
    "\n",
    "def automatic_histogram(dataset, x):\n",
    "    res_dict = {}\n",
    "    if len(dataset) < x:\n",
    "        res_dict[dataset] = x\n",
    "        return res_dict\n",
    "    else:\n",
    "        arr = np.array(dataset)\n",
    "        idx = np.where(arr == x)[0]\n",
    "        subarrays = np.split(arr, idx+1)\n",
    "        result = [subarray.tolist() for subarray in subarrays if len(subarray) > 0]\n",
    "        for i in range(0, x):\n",
    "            result[i+1].append(x)\n",
    "            x -= 1\n",
    "\n",
    "        # for i in range(0, len(result)):\n",
    "        #     res_dict[result[i]] = result[i + 1]\n",
    "        for i in range(0, len(result)-1):\n",
    "            key = str(tuple(result[i]))  # Convert the list to a tuple\n",
    "            value = tuple(result[i + 1])  # Convert the list to a tuple\n",
    "\n",
    "            # Check if the key already exists in the dictionary\n",
    "            if key in res_dict:\n",
    "                res_dict[key] += value\n",
    "            else:\n",
    "                res_dict[key] = value\n",
    "        return res_dict"
   ]
  },
  {
   "cell_type": "markdown",
   "metadata": {},
   "source": [
    "I cannot sort it because it makes the time complexity nlog(n)\n",
    "\n",
    "I will try to make it O(n)"
   ]
  },
  {
   "cell_type": "code",
   "execution_count": null,
   "metadata": {},
   "outputs": [],
   "source": [
    "def automatic_histogram(dataset, x):\n",
    "    # Calculate the range of values in the dataset\n",
    "    data_range = max(dataset) - min(dataset)\n",
    "\n",
    "    # Calculate the bin width\n",
    "    bin_width = data_range / x\n",
    "\n",
    "    # Initialize the histogram dictionary\n",
    "    histogram = {}\n",
    "\n",
    "    # Iterate through each bin\n",
    "    for i in range(x):\n",
    "        # Define the bin boundaries\n",
    "        bin_start = min(dataset) + i * bin_width\n",
    "        bin_end = min(dataset) + (i + 1) * bin_width\n",
    "\n",
    "        # Create a key for the bin in the dictionary\n",
    "        if i == x - 1:\n",
    "            # Last bin, include values equal to the upper bound\n",
    "            key = f'{bin_start}-{bin_end}'\n",
    "        else:\n",
    "            key = f'{bin_start}-{bin_end-1e-10}'  # To handle floating-point precision issues\n",
    "\n",
    "        # Count the occurrences of values in the bin\n",
    "        count = sum(1 for value in dataset if bin_start <= value <= bin_end)\n",
    "\n",
    "        # Add the bin to the histogram dictionary only if it has non-zero count\n",
    "        if count > 0:\n",
    "            histogram[key] = count\n",
    "\n",
    "    return histogram\n",
    "\n",
    "# Example usage:\n",
    "x = 3\n",
    "dataset = [1, 2, 2, 3, 4, 5]\n",
    "result = automatic_histogram(dataset, x)\n",
    "print(result)\n"
   ]
  }
 ],
 "metadata": {
  "language_info": {
   "name": "python"
  }
 },
 "nbformat": 4,
 "nbformat_minor": 2
}
