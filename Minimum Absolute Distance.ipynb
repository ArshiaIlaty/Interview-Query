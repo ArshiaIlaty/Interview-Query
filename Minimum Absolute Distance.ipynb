{
 "cells": [
  {
   "cell_type": "markdown",
   "metadata": {},
   "source": [
    "Given an array of integers, write a function min_distance to calculate the minimum absolute distance between two elements then return all pairs having that absolute difference.\n",
    "\n",
    "Note: Make sure to return the pairs in ascending order.\n",
    "\n",
    "Example:\n",
    "\n",
    "Input:\n",
    "v = [3, 12, 126, 44, 52, 57, 144, 61, 68, 72, 122]\n",
    "\n",
    "Output:\n",
    "def min_distance(V) ->\n",
    "min = 4\n",
    "\n",
    "[[57, 61], [68, 72], [122, 126]]"
   ]
  },
  {
   "cell_type": "markdown",
   "metadata": {},
   "source": [
    "First solution is brute force attack using two nested for loop, but the time complexity is gonna be O(n**2), so we need to optimize it.\n",
    "\n",
    "The best solution seems to be linear search from left to right. We will do it twice. The first one is for sorting."
   ]
  },
  {
   "cell_type": "code",
   "execution_count": 11,
   "metadata": {},
   "outputs": [
    {
     "name": "stdout",
     "output_type": "stream",
     "text": [
      "4\n"
     ]
    }
   ],
   "source": [
    "#GitHub copilot suggestion\n",
    "import itertools\n",
    "\n",
    "def min_distance(v, min_val):\n",
    "    for v in itertools.combinations(v, 2):\n",
    "        if abs(v[0] - v[1]) < min_val:\n",
    "            min_val = abs(v[0] - v[1])\n",
    "    return min_val\n",
    "\n",
    "\n",
    "min_val = 4\n",
    "v = [3, 12, 126, 44, 52, 57, 144, 61, 68, 72, 122]\n",
    "print(min_distance(v, min_val))\n"
   ]
  },
  {
   "cell_type": "markdown",
   "metadata": {},
   "source": [
    "Quicksort has an average time complexity of O(n log n), making it quite efficient. However, keep in mind that the performance can degrade to O(n^2) in the worst case, so it's essential to choose a good pivot strategy."
   ]
  },
  {
   "cell_type": "code",
   "execution_count": null,
   "metadata": {},
   "outputs": [],
   "source": [
    "def quicksort(arr):\n",
    "    if len(arr) <= 1:\n",
    "        return arr\n",
    "    else:\n",
    "        pivot = arr[0]\n",
    "        less = [x for x in arr[1:] if x <= pivot]\n",
    "        greater = [x for x in arr[1:] if x > pivot]\n",
    "        return quicksort(less) + [pivot] + quicksort(greater)"
   ]
  },
  {
   "cell_type": "markdown",
   "metadata": {},
   "source": [
    "You might consider Merge Sort, which also has a time complexity of O(n log n) and is a stable sorting algorithm."
   ]
  },
  {
   "cell_type": "code",
   "execution_count": null,
   "metadata": {},
   "outputs": [],
   "source": [
    "def merge_sort(arr):\n",
    "    if len(arr) <= 1:\n",
    "        return arr\n",
    "\n",
    "    mid = len(arr) // 2\n",
    "    left_half = arr[:mid]\n",
    "    right_half = arr[mid:]\n",
    "\n",
    "    left_half = merge_sort(left_half)\n",
    "    right_half = merge_sort(right_half)\n",
    "\n",
    "    return merge(left_half, right_half)\n",
    "\n",
    "def merge(left, right):\n",
    "    result = []\n",
    "    i = j = 0\n",
    "\n",
    "    while i < len(left) and j < len(right):\n",
    "        if left[i] < right[j]:\n",
    "            result.append(left[i])\n",
    "            i += 1\n",
    "        else:\n",
    "            result.append(right[j])\n",
    "            j += 1\n",
    "\n",
    "    result.extend(left[i:])\n",
    "    result.extend(right[j:])\n",
    "    return result"
   ]
  },
  {
   "cell_type": "code",
   "execution_count": null,
   "metadata": {},
   "outputs": [],
   "source": [
    "def min_distance(v, min):\n",
    "    for i in range(len(V)):\n",
    "        for j in range(i+1, len(v)):\n",
    "            if abs(v[i] - v[j]) < min:\n",
    "                min = abs(v[i] - v[j])\n",
    "    return min\n",
    "\n",
    "min = 4\n",
    "v = [3, 12, 126, 44, 52, 57, 144, 61, 68, 72, 122]\n",
    "print(min_distance(v, min))"
   ]
  },
  {
   "cell_type": "code",
   "execution_count": 13,
   "metadata": {},
   "outputs": [
    {
     "ename": "TypeError",
     "evalue": "'int' object is not callable",
     "output_type": "error",
     "traceback": [
      "\u001b[1;31m---------------------------------------------------------------------------\u001b[0m",
      "\u001b[1;31mTypeError\u001b[0m                                 Traceback (most recent call last)",
      "\u001b[1;32mc:\\Users\\ailaty\\Desktop\\Python Scripts\\Interviwe Query\\Minimum Absolute Distance.ipynb Cell 9\u001b[0m line \u001b[0;36m1\n\u001b[0;32m     <a href='vscode-notebook-cell:/c%3A/Users/ailaty/Desktop/Python%20Scripts/Interviwe%20Query/Minimum%20Absolute%20Distance.ipynb#W4sZmlsZQ%3D%3D?line=15'>16</a>\u001b[0m min_val \u001b[39m=\u001b[39m \u001b[39m4\u001b[39m\n\u001b[0;32m     <a href='vscode-notebook-cell:/c%3A/Users/ailaty/Desktop/Python%20Scripts/Interviwe%20Query/Minimum%20Absolute%20Distance.ipynb#W4sZmlsZQ%3D%3D?line=16'>17</a>\u001b[0m v \u001b[39m=\u001b[39m [\u001b[39m3\u001b[39m, \u001b[39m12\u001b[39m, \u001b[39m126\u001b[39m, \u001b[39m44\u001b[39m, \u001b[39m52\u001b[39m, \u001b[39m57\u001b[39m, \u001b[39m144\u001b[39m, \u001b[39m61\u001b[39m, \u001b[39m68\u001b[39m, \u001b[39m72\u001b[39m, \u001b[39m122\u001b[39m]\n\u001b[1;32m---> <a href='vscode-notebook-cell:/c%3A/Users/ailaty/Desktop/Python%20Scripts/Interviwe%20Query/Minimum%20Absolute%20Distance.ipynb#W4sZmlsZQ%3D%3D?line=17'>18</a>\u001b[0m \u001b[39mprint\u001b[39m(min_distance(v, min_val))\n",
      "\u001b[1;32mc:\\Users\\ailaty\\Desktop\\Python Scripts\\Interviwe Query\\Minimum Absolute Distance.ipynb Cell 9\u001b[0m line \u001b[0;36m5\n\u001b[0;32m      <a href='vscode-notebook-cell:/c%3A/Users/ailaty/Desktop/Python%20Scripts/Interviwe%20Query/Minimum%20Absolute%20Distance.ipynb#W4sZmlsZQ%3D%3D?line=1'>2</a>\u001b[0m revised \u001b[39m=\u001b[39m []\n\u001b[0;32m      <a href='vscode-notebook-cell:/c%3A/Users/ailaty/Desktop/Python%20Scripts/Interviwe%20Query/Minimum%20Absolute%20Distance.ipynb#W4sZmlsZQ%3D%3D?line=2'>3</a>\u001b[0m \u001b[39mfor\u001b[39;00m _ \u001b[39min\u001b[39;00m \u001b[39mrange\u001b[39m(\u001b[39mlen\u001b[39m(v)):\n\u001b[0;32m      <a href='vscode-notebook-cell:/c%3A/Users/ailaty/Desktop/Python%20Scripts/Interviwe%20Query/Minimum%20Absolute%20Distance.ipynb#W4sZmlsZQ%3D%3D?line=3'>4</a>\u001b[0m     \u001b[39m#not optimal, time complexity is O(n^2)\u001b[39;00m\n\u001b[1;32m----> <a href='vscode-notebook-cell:/c%3A/Users/ailaty/Desktop/Python%20Scripts/Interviwe%20Query/Minimum%20Absolute%20Distance.ipynb#W4sZmlsZQ%3D%3D?line=4'>5</a>\u001b[0m     revised\u001b[39m.\u001b[39mappend(\u001b[39mmin\u001b[39;49m(v))\n\u001b[0;32m      <a href='vscode-notebook-cell:/c%3A/Users/ailaty/Desktop/Python%20Scripts/Interviwe%20Query/Minimum%20Absolute%20Distance.ipynb#W4sZmlsZQ%3D%3D?line=5'>6</a>\u001b[0m     v\u001b[39m.\u001b[39mremove(\u001b[39mmin\u001b[39m(v))\n\u001b[0;32m      <a href='vscode-notebook-cell:/c%3A/Users/ailaty/Desktop/Python%20Scripts/Interviwe%20Query/Minimum%20Absolute%20Distance.ipynb#W4sZmlsZQ%3D%3D?line=7'>8</a>\u001b[0m answ \u001b[39m=\u001b[39m []\n",
      "\u001b[1;31mTypeError\u001b[0m: 'int' object is not callable"
     ]
    }
   ],
   "source": [
    "def min_distance(v, min_val):\n",
    "    revised = []\n",
    "    for _ in range(len(v)):\n",
    "        #not optimal, time complexity is O(n^2)\n",
    "        revised.append(min(v))\n",
    "        v.remove(min(v))\n",
    "\n",
    "    answ = []\n",
    "    for i in range(len(revised)-1):\n",
    "        if revised[i+1] - revised[i] < min_val:\n",
    "            #create a list of two and insert it into new list\n",
    "            answ.append([revised[i], revised[i+1]])\n",
    "            #or just make a tuple and insert it into new list: .append(tuple((3, 4)))\n",
    "    return answ\n",
    "\n",
    "min_val = 4\n",
    "v = [3, 12, 126, 44, 52, 57, 144, 61, 68, 72, 122]\n",
    "print(min_distance(v, min_val))\n"
   ]
  }
 ],
 "metadata": {
  "kernelspec": {
   "display_name": "Python 3",
   "language": "python",
   "name": "python3"
  },
  "language_info": {
   "codemirror_mode": {
    "name": "ipython",
    "version": 3
   },
   "file_extension": ".py",
   "mimetype": "text/x-python",
   "name": "python",
   "nbconvert_exporter": "python",
   "pygments_lexer": "ipython3",
   "version": "3.11.5"
  }
 },
 "nbformat": 4,
 "nbformat_minor": 2
}
